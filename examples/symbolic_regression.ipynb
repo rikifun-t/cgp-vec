{
 "cells": [
  {
   "cell_type": "markdown",
   "id": "47e6668a-4fb7-44ee-8f58-0b7277696096",
   "metadata": {},
   "source": [
    "# Imports"
   ]
  },
  {
   "cell_type": "code",
   "execution_count": 3,
   "id": "09f3f87b-79a3-40d3-aee0-c75c63f143cc",
   "metadata": {},
   "outputs": [],
   "source": [
    "from typing import Any, Union, Tuple, List, Dict, Optional, Iterable, Callable\n",
    "\n",
    "from tqdm import tqdm\n",
    "import torch\n",
    "import cgpv"
   ]
  },
  {
   "cell_type": "markdown",
   "id": "583d2f9f-4d27-4279-bfba-562b33038fdb",
   "metadata": {},
   "source": [
    "# Auxiliary functions"
   ]
  },
  {
   "cell_type": "code",
   "execution_count": 4,
   "id": "3ded18fe-7e72-405b-9b2c-cb5b8e319927",
   "metadata": {},
   "outputs": [],
   "source": [
    "def mse(x, y):\n",
    "    reduced_dims = tuple(range(2, x.dim()))\n",
    "    return torch.mean((x - y)**2, dim=reduced_dims)\n",
    "\n",
    "# the original loss used for Koza regression problems\n",
    "def koza_regression_loss(x, y):\n",
    "    reduced_dims = tuple(range(2, x.dim()))\n",
    "    return torch.sum((x - y).abs(), dim=reduced_dims)"
   ]
  },
  {
   "cell_type": "markdown",
   "id": "90701546-8215-4e97-8ca2-b9ae5bc017aa",
   "metadata": {},
   "source": [
    "# Symbolic regression"
   ]
  },
  {
   "cell_type": "code",
   "execution_count": 7,
   "id": "21c48471-121f-4c01-9ca3-1e114ffd7179",
   "metadata": {},
   "outputs": [],
   "source": [
    "# A single function to perform multiple steps of symbolic regression with a \n",
    "# (mu+lambda)-ES. Uses tqdm for the progress bar.\n",
    "def plus_regression(\n",
    "        n_steps: int, mutation_rate: float, n_populations: int, n_parents: int,\n",
    "        n_offspring: int, n_hidden: int, input: torch.Tensor,\n",
    "        true_output: torch.Tensor,\n",
    "        primitive_functions: List[cgpv.PrimitiveType],\n",
    "        primitive_arities: torch.Tensor,\n",
    "        generator: Optional[torch.Generator] = None,\n",
    "        loss: Optional[Callable[[torch.Tensor, torch.Tensor], torch.Tensor]] \\\n",
    "            = None, # mse\n",
    "        observe_step: Optional[Callable] = None) -> cgpv.Populations:\n",
    "    loss = loss or mse\n",
    "    device = None if generator is None else generator.device\n",
    "    input = input.to(device)\n",
    "    true_output = true_output.to(device)\n",
    "    primitive_arities = primitive_arities.to(device)\n",
    "    populations = cgpv.Populations.random(\n",
    "        n_populations=n_populations, pop_size=n_parents, n_inputs=1,\n",
    "        n_outputs=1, n_hidden=n_hidden, primitive_functions=primitive_functions,\n",
    "        primitive_arities=primitive_arities, descending_fitness=False,\n",
    "        generator=generator, device=device)\n",
    "    populations.fitnesses = loss(populations(input), true_output)\n",
    "    pbar = tqdm(range(n_steps))\n",
    "    for i in pbar:\n",
    "        parents = populations.roulette_wheel(n_rounds=n_offspring,\n",
    "                                             generator=generator)\n",
    "        offspring = parents.mutate(rate=mutation_rate, generator=generator)\n",
    "        offspring.fitnesses = loss(offspring(input), true_output)\n",
    "        populations = offspring.plus_selection(populations)\n",
    "        pbar.set_postfix({'loss': f'{populations.fitnesses.mean():0.2f} +- {populations.fitnesses.std():0.2f}'})\n",
    "        if observe_step is not None:\n",
    "            observe_step(step=i, observations={\n",
    "                'dnas': populations.dnas, 'outputs': populations(input), 'losses': populations.fitnesses\n",
    "              })\n",
    "    return populations"
   ]
  },
  {
   "cell_type": "markdown",
   "id": "66d6474c-e09c-41ea-94bd-cd6c5c1a45cc",
   "metadata": {},
   "source": [
    "# Experiment"
   ]
  },
  {
   "cell_type": "code",
   "execution_count": 8,
   "id": "71fad9b4-1b8e-4dcb-8671-8efe9ee73ada",
   "metadata": {},
   "outputs": [
    {
     "name": "stderr",
     "output_type": "stream",
     "text": [
      "100%|██████████████████████████| 500/500 [00:34<00:00, 14.40it/s, loss=0.14 +- 0.53]\n"
     ]
    }
   ],
   "source": [
    "#device = torch.device('cuda')\n",
    "device = torch.device('cpu')\n",
    "\n",
    "koza_primitives = [\n",
    "    lambda x: x[0] + x[1],\n",
    "    lambda x: x[0] * x[1],\n",
    "    lambda x: x[0] - x[1],\n",
    "    lambda x: x[0] / x[1]\n",
    "]\n",
    "koza_primitive_arities = torch.tensor([2, 2, 2, 2])\n",
    "\n",
    "# Instantiate 2 Koza problems (Koza-2 and Koza-3). To switch between the \n",
    "# two, pass the appropriate koza*_outputs to the true_output parameter of \n",
    "# plus_regression.\n",
    "koza_inputs = torch.linspace(-1., 1., 50).expand(1, -1)\n",
    "koza2_target = lambda x: x[0]**5 - 2*x[0]**3 + x[0]\n",
    "koza3_target = lambda x: x[0]**6 - 2*x[0]**4 + x[0]**2\n",
    "koza2_outputs = koza2_target(koza_inputs)\n",
    "koza3_outputs = koza3_target(koza_inputs)\n",
    "\n",
    "# big populations like in the Gecco '07 paper on real-valued CGP\n",
    "populations = plus_regression(\n",
    "    n_steps=500, mutation_rate=0.2, n_populations=100, n_parents=48,\n",
    "    n_offspring=50, n_hidden=10, input=koza_inputs,\n",
    "    true_output=koza3_outputs, primitive_functions=koza_primitives,\n",
    "    primitive_arities=koza_primitive_arities,\n",
    "    generator=cgpv.seeded_generator(seed=42, device=device),\n",
    "    loss=koza_regression_loss, observe_step=None,)"
   ]
  },
  {
   "cell_type": "code",
   "execution_count": null,
   "id": "24a496aa-f3e0-4f22-bcb4-a5b853bbbdb5",
   "metadata": {},
   "outputs": [],
   "source": []
  }
 ],
 "metadata": {
  "kernelspec": {
   "display_name": "Python 3 (ipykernel)",
   "language": "python",
   "name": "python3"
  },
  "language_info": {
   "codemirror_mode": {
    "name": "ipython",
    "version": 3
   },
   "file_extension": ".py",
   "mimetype": "text/x-python",
   "name": "python",
   "nbconvert_exporter": "python",
   "pygments_lexer": "ipython3",
   "version": "3.10.4"
  }
 },
 "nbformat": 4,
 "nbformat_minor": 5
}
